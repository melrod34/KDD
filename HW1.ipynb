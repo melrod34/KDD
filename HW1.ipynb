{
 "cells": [
  {
   "cell_type": "code",
   "execution_count": 1,
   "metadata": {},
   "outputs": [],
   "source": [
    "import pandas as pd\n",
    "from sklearn.metrics.pairwise import cosine_similarity"
   ]
  },
  {
   "cell_type": "code",
   "execution_count": 2,
   "metadata": {},
   "outputs": [],
   "source": [
    "data = [[1.5,1.7], [2,1.9], [1.6,1.8], [1.2,1.5],[1.5,1]]\n",
    "df = pd.DataFrame(data, columns=['A1','A2'])\n",
    "query = [[1.4,1.6]]"
   ]
  },
  {
   "cell_type": "code",
   "execution_count": 10,
   "metadata": {},
   "outputs": [
    {
     "name": "stdout",
     "output_type": "stream",
     "text": [
      "   Similarity\n",
      "4    0.965363\n",
      "1    0.995752\n",
      "3    0.999028\n",
      "2    0.999969\n",
      "0    0.999991\n"
     ]
    }
   ],
   "source": [
    "cos_sim= cosine_similarity(df,query)\n",
    "cos_sim_df = pd.DataFrame(cos_sim, index=df.index, columns=['Similarity'])\n",
    "rank = cos_sim_df.sort_values(by = 'Similarity', ascending=True)\n",
    "print(rank)"
   ]
  }
 ],
 "metadata": {
  "kernelspec": {
   "display_name": "Python 3",
   "language": "python",
   "name": "python3"
  },
  "language_info": {
   "codemirror_mode": {
    "name": "ipython",
    "version": 3
   },
   "file_extension": ".py",
   "mimetype": "text/x-python",
   "name": "python",
   "nbconvert_exporter": "python",
   "pygments_lexer": "ipython3",
   "version": "3.10.11"
  }
 },
 "nbformat": 4,
 "nbformat_minor": 2
}
